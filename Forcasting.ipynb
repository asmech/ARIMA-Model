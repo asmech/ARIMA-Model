{
 "cells": [
  {
   "cell_type": "code",
   "execution_count": 1,
   "metadata": {
    "id": "JzlF-VqzrZCx"
   },
   "outputs": [
    {
     "name": "stdout",
     "output_type": "stream",
     "text": [
      "Requirement already satisfied: pmdarima in c:\\users\\ankit\\anaconda3\\lib\\site-packages (1.8.2)\n",
      "Requirement already satisfied: statsmodels!=0.12.0,>=0.11 in c:\\users\\ankit\\anaconda3\\lib\\site-packages (from pmdarima) (0.12.2)\n",
      "Requirement already satisfied: scikit-learn>=0.22 in c:\\users\\ankit\\anaconda3\\lib\\site-packages (from pmdarima) (0.24.1)\n",
      "Requirement already satisfied: scipy>=1.3.2 in c:\\users\\ankit\\anaconda3\\lib\\site-packages (from pmdarima) (1.6.2)\n",
      "Requirement already satisfied: joblib>=0.11 in c:\\users\\ankit\\anaconda3\\lib\\site-packages (from pmdarima) (1.0.1)\n",
      "Requirement already satisfied: Cython!=0.29.18,>=0.29 in c:\\users\\ankit\\anaconda3\\lib\\site-packages (from pmdarima) (0.29.23)\n",
      "Requirement already satisfied: numpy~=1.19.0 in c:\\users\\ankit\\anaconda3\\lib\\site-packages (from pmdarima) (1.19.5)\n",
      "Requirement already satisfied: setuptools!=50.0.0,>=38.6.0 in c:\\users\\ankit\\anaconda3\\lib\\site-packages (from pmdarima) (52.0.0.post20210125)\n",
      "Requirement already satisfied: pandas>=0.19 in c:\\users\\ankit\\anaconda3\\lib\\site-packages (from pmdarima) (1.2.4)\n",
      "Requirement already satisfied: urllib3 in c:\\users\\ankit\\anaconda3\\lib\\site-packages (from pmdarima) (1.26.4)\n",
      "Requirement already satisfied: python-dateutil>=2.7.3 in c:\\users\\ankit\\anaconda3\\lib\\site-packages (from pandas>=0.19->pmdarima) (2.8.1)\n",
      "Requirement already satisfied: pytz>=2017.3 in c:\\users\\ankit\\anaconda3\\lib\\site-packages (from pandas>=0.19->pmdarima) (2021.1)\n",
      "Requirement already satisfied: six>=1.5 in c:\\users\\ankit\\anaconda3\\lib\\site-packages (from python-dateutil>=2.7.3->pandas>=0.19->pmdarima) (1.15.0)\n",
      "Requirement already satisfied: threadpoolctl>=2.0.0 in c:\\users\\ankit\\anaconda3\\lib\\site-packages (from scikit-learn>=0.22->pmdarima) (2.1.0)\n",
      "Requirement already satisfied: patsy>=0.5 in c:\\users\\ankit\\anaconda3\\lib\\site-packages (from statsmodels!=0.12.0,>=0.11->pmdarima) (0.5.1)\n"
     ]
    }
   ],
   "source": [
    "!pip install pmdarima"
   ]
  },
  {
   "cell_type": "code",
   "execution_count": 2,
   "metadata": {
    "id": "cuVJEyyRrd2H"
   },
   "outputs": [],
   "source": [
    "import pandas as pd\n",
    "import numpy as np"
   ]
  },
  {
   "cell_type": "markdown",
   "metadata": {
    "id": "5V2vhvqUr6q3"
   },
   "source": [
    "Read data"
   ]
  },
  {
   "cell_type": "code",
   "execution_count": 3,
   "metadata": {
    "colab": {
     "base_uri": "https://localhost:8080/",
     "height": 242
    },
    "executionInfo": {
     "elapsed": 1867,
     "status": "ok",
     "timestamp": 1621834373750,
     "user": {
      "displayName": "2K18/CEME/37 RISHABH KUMAR",
      "photoUrl": "https://lh3.googleusercontent.com/a-/AOh14GgzlEHWXlR-NKsx5juI8HltlJJ4xBY05YIx6l-S=s64",
      "userId": "10963196914525607979"
     },
     "user_tz": -330
    },
    "id": "tJx3YJbDr73H",
    "outputId": "19ba7458-bc00-4b70-ff78-51649bbe5fb8"
   },
   "outputs": [],
   "source": [
    "df = pd.read_csv(r'C:\\Users\\ankit\\Downloads\\Reliance.csv', index_col='Date',parse_dates=True)"
   ]
  },
  {
   "cell_type": "markdown",
   "metadata": {
    "id": "44iOq5Mo3aJ9"
   },
   "source": [
    "Plot Your Data"
   ]
  },
  {
   "cell_type": "code",
   "execution_count": 4,
   "metadata": {},
   "outputs": [],
   "source": [
    "df=df.dropna()"
   ]
  },
  {
   "cell_type": "code",
   "execution_count": 5,
   "metadata": {},
   "outputs": [
    {
     "data": {
      "text/html": [
       "<div>\n",
       "<style scoped>\n",
       "    .dataframe tbody tr th:only-of-type {\n",
       "        vertical-align: middle;\n",
       "    }\n",
       "\n",
       "    .dataframe tbody tr th {\n",
       "        vertical-align: top;\n",
       "    }\n",
       "\n",
       "    .dataframe thead th {\n",
       "        text-align: right;\n",
       "    }\n",
       "</style>\n",
       "<table border=\"1\" class=\"dataframe\">\n",
       "  <thead>\n",
       "    <tr style=\"text-align: right;\">\n",
       "      <th></th>\n",
       "      <th>Price</th>\n",
       "    </tr>\n",
       "    <tr>\n",
       "      <th>Date</th>\n",
       "      <th></th>\n",
       "    </tr>\n",
       "  </thead>\n",
       "  <tbody>\n",
       "    <tr>\n",
       "      <th>2016-03-01</th>\n",
       "      <td>491.125000</td>\n",
       "    </tr>\n",
       "    <tr>\n",
       "      <th>2016-04-01</th>\n",
       "      <td>516.825012</td>\n",
       "    </tr>\n",
       "    <tr>\n",
       "      <th>2016-05-02</th>\n",
       "      <td>493.149994</td>\n",
       "    </tr>\n",
       "    <tr>\n",
       "      <th>2016-06-01</th>\n",
       "      <td>476.649994</td>\n",
       "    </tr>\n",
       "    <tr>\n",
       "      <th>2016-07-01</th>\n",
       "      <td>486.825012</td>\n",
       "    </tr>\n",
       "    <tr>\n",
       "      <th>2016-08-01</th>\n",
       "      <td>504.649994</td>\n",
       "    </tr>\n",
       "    <tr>\n",
       "      <th>2016-09-01</th>\n",
       "      <td>514.575012</td>\n",
       "    </tr>\n",
       "    <tr>\n",
       "      <th>2016-10-03</th>\n",
       "      <td>545.200012</td>\n",
       "    </tr>\n",
       "    <tr>\n",
       "      <th>2016-11-01</th>\n",
       "      <td>524.150024</td>\n",
       "    </tr>\n",
       "    <tr>\n",
       "      <th>2016-12-01</th>\n",
       "      <td>498.600006</td>\n",
       "    </tr>\n",
       "    <tr>\n",
       "      <th>2017-01-02</th>\n",
       "      <td>541.549988</td>\n",
       "    </tr>\n",
       "    <tr>\n",
       "      <th>2017-02-01</th>\n",
       "      <td>524.599976</td>\n",
       "    </tr>\n",
       "    <tr>\n",
       "      <th>2017-03-01</th>\n",
       "      <td>617.075012</td>\n",
       "    </tr>\n",
       "    <tr>\n",
       "      <th>2017-04-01</th>\n",
       "      <td>685.599976</td>\n",
       "    </tr>\n",
       "    <tr>\n",
       "      <th>2017-05-01</th>\n",
       "      <td>685.450012</td>\n",
       "    </tr>\n",
       "    <tr>\n",
       "      <th>2017-06-01</th>\n",
       "      <td>664.250000</td>\n",
       "    </tr>\n",
       "    <tr>\n",
       "      <th>2017-07-03</th>\n",
       "      <td>692.049988</td>\n",
       "    </tr>\n",
       "    <tr>\n",
       "      <th>2017-08-01</th>\n",
       "      <td>801.775024</td>\n",
       "    </tr>\n",
       "    <tr>\n",
       "      <th>2017-09-01</th>\n",
       "      <td>804.674988</td>\n",
       "    </tr>\n",
       "    <tr>\n",
       "      <th>2017-10-03</th>\n",
       "      <td>798.349976</td>\n",
       "    </tr>\n",
       "    <tr>\n",
       "      <th>2017-11-01</th>\n",
       "      <td>952.299988</td>\n",
       "    </tr>\n",
       "    <tr>\n",
       "      <th>2017-12-01</th>\n",
       "      <td>909.849976</td>\n",
       "    </tr>\n",
       "    <tr>\n",
       "      <th>2018-01-01</th>\n",
       "      <td>911.549988</td>\n",
       "    </tr>\n",
       "    <tr>\n",
       "      <th>2018-02-01</th>\n",
       "      <td>944.099976</td>\n",
       "    </tr>\n",
       "    <tr>\n",
       "      <th>2018-03-01</th>\n",
       "      <td>947.700012</td>\n",
       "    </tr>\n",
       "    <tr>\n",
       "      <th>2018-04-01</th>\n",
       "      <td>892.700012</td>\n",
       "    </tr>\n",
       "    <tr>\n",
       "      <th>2018-05-01</th>\n",
       "      <td>973.000000</td>\n",
       "    </tr>\n",
       "    <tr>\n",
       "      <th>2018-06-01</th>\n",
       "      <td>929.200012</td>\n",
       "    </tr>\n",
       "    <tr>\n",
       "      <th>2018-07-01</th>\n",
       "      <td>961.049988</td>\n",
       "    </tr>\n",
       "    <tr>\n",
       "      <th>2018-08-01</th>\n",
       "      <td>1191.150024</td>\n",
       "    </tr>\n",
       "    <tr>\n",
       "      <th>2018-09-01</th>\n",
       "      <td>1230.400024</td>\n",
       "    </tr>\n",
       "    <tr>\n",
       "      <th>2018-10-01</th>\n",
       "      <td>1231.550049</td>\n",
       "    </tr>\n",
       "    <tr>\n",
       "      <th>2018-11-01</th>\n",
       "      <td>1056.900024</td>\n",
       "    </tr>\n",
       "    <tr>\n",
       "      <th>2018-12-03</th>\n",
       "      <td>1156.300049</td>\n",
       "    </tr>\n",
       "    <tr>\n",
       "      <th>2019-01-01</th>\n",
       "      <td>1121.349976</td>\n",
       "    </tr>\n",
       "    <tr>\n",
       "      <th>2019-02-01</th>\n",
       "      <td>1247.300049</td>\n",
       "    </tr>\n",
       "    <tr>\n",
       "      <th>2019-03-01</th>\n",
       "      <td>1226.699951</td>\n",
       "    </tr>\n",
       "    <tr>\n",
       "      <th>2019-04-01</th>\n",
       "      <td>1391.550049</td>\n",
       "    </tr>\n",
       "    <tr>\n",
       "      <th>2019-05-02</th>\n",
       "      <td>1405.099976</td>\n",
       "    </tr>\n",
       "    <tr>\n",
       "      <th>2019-06-03</th>\n",
       "      <td>1358.300049</td>\n",
       "    </tr>\n",
       "    <tr>\n",
       "      <th>2019-07-01</th>\n",
       "      <td>1268.500000</td>\n",
       "    </tr>\n",
       "    <tr>\n",
       "      <th>2019-08-01</th>\n",
       "      <td>1180.550049</td>\n",
       "    </tr>\n",
       "    <tr>\n",
       "      <th>2019-09-03</th>\n",
       "      <td>1205.900024</td>\n",
       "    </tr>\n",
       "    <tr>\n",
       "      <th>2019-11-01</th>\n",
       "      <td>1457.000000</td>\n",
       "    </tr>\n",
       "    <tr>\n",
       "      <th>2019-12-01</th>\n",
       "      <td>1586.300049</td>\n",
       "    </tr>\n",
       "    <tr>\n",
       "      <th>2020-01-01</th>\n",
       "      <td>1509.699951</td>\n",
       "    </tr>\n",
       "    <tr>\n",
       "      <th>2020-02-03</th>\n",
       "      <td>1385.849976</td>\n",
       "    </tr>\n",
       "    <tr>\n",
       "      <th>2020-03-01</th>\n",
       "      <td>1302.455811</td>\n",
       "    </tr>\n",
       "    <tr>\n",
       "      <th>2020-04-01</th>\n",
       "      <td>1070.463501</td>\n",
       "    </tr>\n",
       "    <tr>\n",
       "      <th>2020-05-01</th>\n",
       "      <td>1421.869507</td>\n",
       "    </tr>\n",
       "    <tr>\n",
       "      <th>2020-06-01</th>\n",
       "      <td>1520.449951</td>\n",
       "    </tr>\n",
       "    <tr>\n",
       "      <th>2020-07-01</th>\n",
       "      <td>1737.900024</td>\n",
       "    </tr>\n",
       "    <tr>\n",
       "      <th>2020-08-01</th>\n",
       "      <td>2008.449951</td>\n",
       "    </tr>\n",
       "    <tr>\n",
       "      <th>2020-09-01</th>\n",
       "      <td>2087.550049</td>\n",
       "    </tr>\n",
       "    <tr>\n",
       "      <th>2020-10-01</th>\n",
       "      <td>2225.050049</td>\n",
       "    </tr>\n",
       "    <tr>\n",
       "      <th>2020-11-02</th>\n",
       "      <td>1877.300049</td>\n",
       "    </tr>\n",
       "    <tr>\n",
       "      <th>2020-12-01</th>\n",
       "      <td>1954.300049</td>\n",
       "    </tr>\n",
       "    <tr>\n",
       "      <th>2021-01-01</th>\n",
       "      <td>1987.150024</td>\n",
       "    </tr>\n",
       "    <tr>\n",
       "      <th>2021-02-01</th>\n",
       "      <td>1895.349976</td>\n",
       "    </tr>\n",
       "    <tr>\n",
       "      <th>2021-03-01</th>\n",
       "      <td>2101.699951</td>\n",
       "    </tr>\n",
       "  </tbody>\n",
       "</table>\n",
       "</div>"
      ],
      "text/plain": [
       "                  Price\n",
       "Date                   \n",
       "2016-03-01   491.125000\n",
       "2016-04-01   516.825012\n",
       "2016-05-02   493.149994\n",
       "2016-06-01   476.649994\n",
       "2016-07-01   486.825012\n",
       "2016-08-01   504.649994\n",
       "2016-09-01   514.575012\n",
       "2016-10-03   545.200012\n",
       "2016-11-01   524.150024\n",
       "2016-12-01   498.600006\n",
       "2017-01-02   541.549988\n",
       "2017-02-01   524.599976\n",
       "2017-03-01   617.075012\n",
       "2017-04-01   685.599976\n",
       "2017-05-01   685.450012\n",
       "2017-06-01   664.250000\n",
       "2017-07-03   692.049988\n",
       "2017-08-01   801.775024\n",
       "2017-09-01   804.674988\n",
       "2017-10-03   798.349976\n",
       "2017-11-01   952.299988\n",
       "2017-12-01   909.849976\n",
       "2018-01-01   911.549988\n",
       "2018-02-01   944.099976\n",
       "2018-03-01   947.700012\n",
       "2018-04-01   892.700012\n",
       "2018-05-01   973.000000\n",
       "2018-06-01   929.200012\n",
       "2018-07-01   961.049988\n",
       "2018-08-01  1191.150024\n",
       "2018-09-01  1230.400024\n",
       "2018-10-01  1231.550049\n",
       "2018-11-01  1056.900024\n",
       "2018-12-03  1156.300049\n",
       "2019-01-01  1121.349976\n",
       "2019-02-01  1247.300049\n",
       "2019-03-01  1226.699951\n",
       "2019-04-01  1391.550049\n",
       "2019-05-02  1405.099976\n",
       "2019-06-03  1358.300049\n",
       "2019-07-01  1268.500000\n",
       "2019-08-01  1180.550049\n",
       "2019-09-03  1205.900024\n",
       "2019-11-01  1457.000000\n",
       "2019-12-01  1586.300049\n",
       "2020-01-01  1509.699951\n",
       "2020-02-03  1385.849976\n",
       "2020-03-01  1302.455811\n",
       "2020-04-01  1070.463501\n",
       "2020-05-01  1421.869507\n",
       "2020-06-01  1520.449951\n",
       "2020-07-01  1737.900024\n",
       "2020-08-01  2008.449951\n",
       "2020-09-01  2087.550049\n",
       "2020-10-01  2225.050049\n",
       "2020-11-02  1877.300049\n",
       "2020-12-01  1954.300049\n",
       "2021-01-01  1987.150024\n",
       "2021-02-01  1895.349976\n",
       "2021-03-01  2101.699951"
      ]
     },
     "execution_count": 5,
     "metadata": {},
     "output_type": "execute_result"
    }
   ],
   "source": [
    "df"
   ]
  },
  {
   "cell_type": "code",
   "execution_count": 6,
   "metadata": {},
   "outputs": [
    {
     "name": "stdout",
     "output_type": "stream",
     "text": [
      "Shape of Data (60, 1)\n"
     ]
    }
   ],
   "source": [
    "print('Shape of Data',df.shape)"
   ]
  },
  {
   "cell_type": "code",
   "execution_count": 7,
   "metadata": {},
   "outputs": [
    {
     "data": {
      "text/html": [
       "<div>\n",
       "<style scoped>\n",
       "    .dataframe tbody tr th:only-of-type {\n",
       "        vertical-align: middle;\n",
       "    }\n",
       "\n",
       "    .dataframe tbody tr th {\n",
       "        vertical-align: top;\n",
       "    }\n",
       "\n",
       "    .dataframe thead th {\n",
       "        text-align: right;\n",
       "    }\n",
       "</style>\n",
       "<table border=\"1\" class=\"dataframe\">\n",
       "  <thead>\n",
       "    <tr style=\"text-align: right;\">\n",
       "      <th></th>\n",
       "      <th>Price</th>\n",
       "    </tr>\n",
       "    <tr>\n",
       "      <th>Date</th>\n",
       "      <th></th>\n",
       "    </tr>\n",
       "  </thead>\n",
       "  <tbody>\n",
       "    <tr>\n",
       "      <th>2016-03-01</th>\n",
       "      <td>491.125000</td>\n",
       "    </tr>\n",
       "    <tr>\n",
       "      <th>2016-04-01</th>\n",
       "      <td>516.825012</td>\n",
       "    </tr>\n",
       "    <tr>\n",
       "      <th>2016-05-02</th>\n",
       "      <td>493.149994</td>\n",
       "    </tr>\n",
       "    <tr>\n",
       "      <th>2016-06-01</th>\n",
       "      <td>476.649994</td>\n",
       "    </tr>\n",
       "    <tr>\n",
       "      <th>2016-07-01</th>\n",
       "      <td>486.825012</td>\n",
       "    </tr>\n",
       "  </tbody>\n",
       "</table>\n",
       "</div>"
      ],
      "text/plain": [
       "                 Price\n",
       "Date                  \n",
       "2016-03-01  491.125000\n",
       "2016-04-01  516.825012\n",
       "2016-05-02  493.149994\n",
       "2016-06-01  476.649994\n",
       "2016-07-01  486.825012"
      ]
     },
     "execution_count": 7,
     "metadata": {},
     "output_type": "execute_result"
    }
   ],
   "source": [
    "df.head()"
   ]
  },
  {
   "cell_type": "code",
   "execution_count": 8,
   "metadata": {
    "colab": {
     "base_uri": "https://localhost:8080/",
     "height": 352
    },
    "executionInfo": {
     "elapsed": 719,
     "status": "ok",
     "timestamp": 1621834531870,
     "user": {
      "displayName": "2K18/CEME/37 RISHABH KUMAR",
      "photoUrl": "https://lh3.googleusercontent.com/a-/AOh14GgzlEHWXlR-NKsx5juI8HltlJJ4xBY05YIx6l-S=s64",
      "userId": "10963196914525607979"
     },
     "user_tz": -330
    },
    "id": "gG1grEZq3er9",
    "outputId": "97665e41-1ac6-4eea-c354-56030c9e3df5"
   },
   "outputs": [
    {
     "data": {
      "text/plain": [
       "<AxesSubplot:xlabel='Date'>"
      ]
     },
     "execution_count": 8,
     "metadata": {},
     "output_type": "execute_result"
    },
    {
     "data": {
      "image/png": "[encoded data removed]",
      "text/plain": [
       "<Figure size 864x360 with 1 Axes>"
      ]
     },
     "metadata": {
      "needs_background": "light"
     },
     "output_type": "display_data"
    }
   ],
   "source": [
    "df['Price'].plot(figsize=(12,5))"
   ]
  },
  {
   "cell_type": "markdown",
   "metadata": {
    "id": "eCkq-xsb33zf"
   },
   "source": [
    "Check For Stationarity"
   ]
  },
  {
   "cell_type": "code",
   "execution_count": 9,
   "metadata": {
    "executionInfo": {
     "elapsed": 748,
     "status": "ok",
     "timestamp": 1621835020811,
     "user": {
      "displayName": "2K18/CEME/37 RISHABH KUMAR",
      "photoUrl": "https://lh3.googleusercontent.com/a-/AOh14GgzlEHWXlR-NKsx5juI8HltlJJ4xBY05YIx6l-S=s64",
      "userId": "10963196914525607979"
     },
     "user_tz": -330
    },
    "id": "xpdTTTES369-"
   },
   "outputs": [],
   "source": [
    "from statsmodels.tsa.stattools import adfuller\n",
    "\n",
    "def ad_test(dataset):\n",
    "  dftest = adfuller(dataset, autolag = 'AIC')\n",
    "  print(\"1. ADF :\", dftest[0])\n",
    "  print(\"2. P-Value :\", dftest[1])\n",
    "  print(\"3. Num of Lags :\", dftest[2])\n",
    "  print(\"4. Num of Observation Used for ADF Regression and Critical Values Calculation :\", dftest[3])\n",
    "  print(\"5. Critical Values :\")\n",
    "  for key, val in dftest[4].items():\n",
    "    print(\"\\t\",key, \": \", val)\n"
   ]
  },
  {
   "cell_type": "code",
   "execution_count": 10,
   "metadata": {
    "colab": {
     "base_uri": "https://localhost:8080/"
    },
    "executionInfo": {
     "elapsed": 468,
     "status": "ok",
     "timestamp": 1621835062463,
     "user": {
      "displayName": "2K18/CEME/37 RISHABH KUMAR",
      "photoUrl": "https://lh3.googleusercontent.com/a-/AOh14GgzlEHWXlR-NKsx5juI8HltlJJ4xBY05YIx6l-S=s64",
      "userId": "10963196914525607979"
     },
     "user_tz": -330
    },
    "id": "jEaXlwf75oq_",
    "outputId": "312e5afb-f34a-4958-864b-94022b316c81"
   },
   "outputs": [
    {
     "name": "stdout",
     "output_type": "stream",
     "text": [
      "1. ADF : 1.3127433090608107\n",
      "2. P-Value : 0.9966793420977567\n",
      "3. Num of Lags : 6\n",
      "4. Num of Observation Used for ADF Regression and Critical Values Calculation : 53\n",
      "5. Critical Values :\n",
      "\t 1% :  -3.560242358792829\n",
      "\t 5% :  -2.9178502070837\n",
      "\t 10% :  -2.5967964150943397\n"
     ]
    }
   ],
   "source": [
    "ad_test(df['Price'])"
   ]
  },
  {
   "cell_type": "markdown",
   "metadata": {
    "id": "9DgybRwU58am"
   },
   "source": [
    "Figure Out Order for ARIMA Model"
   ]
  },
  {
   "cell_type": "code",
   "execution_count": 11,
   "metadata": {
    "executionInfo": {
     "elapsed": 499,
     "status": "ok",
     "timestamp": 1621835219947,
     "user": {
      "displayName": "2K18/CEME/37 RISHABH KUMAR",
      "photoUrl": "https://lh3.googleusercontent.com/a-/AOh14GgzlEHWXlR-NKsx5juI8HltlJJ4xBY05YIx6l-S=s64",
      "userId": "10963196914525607979"
     },
     "user_tz": -330
    },
    "id": "dPrWSXBv6EFW"
   },
   "outputs": [],
   "source": [
    "from pmdarima import auto_arima\n",
    "# Ignore harmless warnings\n",
    "import warnings\n",
    "warnings.filterwarnings(\"ignore\")"
   ]
  },
  {
   "cell_type": "code",
   "execution_count": 12,
   "metadata": {
    "colab": {
     "base_uri": "https://localhost:8080/",
     "height": 686
    },
    "executionInfo": {
     "elapsed": 1467,
     "status": "ok",
     "timestamp": 1621835435066,
     "user": {
      "displayName": "2K18/CEME/37 RISHABH KUMAR",
      "photoUrl": "https://lh3.googleusercontent.com/a-/AOh14GgzlEHWXlR-NKsx5juI8HltlJJ4xBY05YIx6l-S=s64",
      "userId": "10963196914525607979"
     },
     "user_tz": -330
    },
    "id": "PTnLGvNE6xnG",
    "outputId": "49f8cd3a-39c2-4447-e698-fbfeb07b23cf"
   },
   "outputs": [
    {
     "name": "stdout",
     "output_type": "stream",
     "text": [
      "Performing stepwise search to minimize aic\n",
      " ARIMA(2,1,2)(0,0,0)[0] intercept   : AIC=736.768, Time=0.17 sec\n",
      " ARIMA(0,1,0)(0,0,0)[0] intercept   : AIC=733.227, Time=0.00 sec\n",
      " ARIMA(1,1,0)(0,0,0)[0] intercept   : AIC=735.210, Time=0.02 sec\n",
      " ARIMA(0,1,1)(0,0,0)[0] intercept   : AIC=735.211, Time=0.10 sec\n",
      " ARIMA(0,1,0)(0,0,0)[0]             : AIC=734.361, Time=0.00 sec\n",
      " ARIMA(1,1,1)(0,0,0)[0] intercept   : AIC=737.152, Time=0.05 sec\n",
      "\n",
      "Best model:  ARIMA(0,1,0)(0,0,0)[0] intercept\n",
      "Total fit time: 0.339 seconds\n"
     ]
    },
    {
     "data": {
      "text/html": [
       "<table class=\"simpletable\">\n",
       "<caption>SARIMAX Results</caption>\n",
       "<tr>\n",
       "  <th>Dep. Variable:</th>           <td>y</td>        <th>  No. Observations:  </th>    <td>60</td>   \n",
       "</tr>\n",
       "<tr>\n",
       "  <th>Model:</th>           <td>SARIMAX(0, 1, 0)</td> <th>  Log Likelihood     </th> <td>-364.613</td>\n",
       "</tr>\n",
       "<tr>\n",
       "  <th>Date:</th>            <td>Sat, 29 May 2021</td> <th>  AIC                </th>  <td>733.227</td>\n",
       "</tr>\n",
       "<tr>\n",
       "  <th>Time:</th>                <td>16:15:01</td>     <th>  BIC                </th>  <td>737.382</td>\n",
       "</tr>\n",
       "<tr>\n",
       "  <th>Sample:</th>                  <td>0</td>        <th>  HQIC               </th>  <td>734.849</td>\n",
       "</tr>\n",
       "<tr>\n",
       "  <th></th>                       <td> - 60</td>      <th>                     </th>     <td> </td>   \n",
       "</tr>\n",
       "<tr>\n",
       "  <th>Covariance Type:</th>        <td>opg</td>       <th>                     </th>     <td> </td>   \n",
       "</tr>\n",
       "</table>\n",
       "<table class=\"simpletable\">\n",
       "<tr>\n",
       "      <td></td>         <th>coef</th>     <th>std err</th>      <th>z</th>      <th>P>|z|</th>  <th>[0.025</th>    <th>0.975]</th>  \n",
       "</tr>\n",
       "<tr>\n",
       "  <th>intercept</th> <td>   27.2979</td> <td>   15.214</td> <td>    1.794</td> <td> 0.073</td> <td>   -2.521</td> <td>   57.117</td>\n",
       "</tr>\n",
       "<tr>\n",
       "  <th>sigma2</th>    <td> 1.366e+04</td> <td> 1896.279</td> <td>    7.201</td> <td> 0.000</td> <td> 9938.829</td> <td> 1.74e+04</td>\n",
       "</tr>\n",
       "</table>\n",
       "<table class=\"simpletable\">\n",
       "<tr>\n",
       "  <th>Ljung-Box (L1) (Q):</th>     <td>0.02</td>  <th>  Jarque-Bera (JB):  </th> <td>5.65</td> \n",
       "</tr>\n",
       "<tr>\n",
       "  <th>Prob(Q):</th>                <td>0.90</td>  <th>  Prob(JB):          </th> <td>0.06</td> \n",
       "</tr>\n",
       "<tr>\n",
       "  <th>Heteroskedasticity (H):</th> <td>13.22</td> <th>  Skew:              </th> <td>-0.01</td>\n",
       "</tr>\n",
       "<tr>\n",
       "  <th>Prob(H) (two-sided):</th>    <td>0.00</td>  <th>  Kurtosis:          </th> <td>4.52</td> \n",
       "</tr>\n",
       "</table><br/><br/>Warnings:<br/>[1] Covariance matrix calculated using the outer product of gradients (complex-step)."
      ],
      "text/plain": [
       "<class 'statsmodels.iolib.summary.Summary'>\n",
       "\"\"\"\n",
       "                               SARIMAX Results                                \n",
       "==============================================================================\n",
       "Dep. Variable:                      y   No. Observations:                   60\n",
       "Model:               SARIMAX(0, 1, 0)   Log Likelihood                -364.613\n",
       "Date:                Sat, 29 May 2021   AIC                            733.227\n",
       "Time:                        16:15:01   BIC                            737.382\n",
       "Sample:                             0   HQIC                           734.849\n",
       "                                 - 60                                         \n",
       "Covariance Type:                  opg                                         \n",
       "==============================================================================\n",
       "                 coef    std err          z      P>|z|      [0.025      0.975]\n",
       "------------------------------------------------------------------------------\n",
       "intercept     27.2979     15.214      1.794      0.073      -2.521      57.117\n",
       "sigma2      1.366e+04   1896.279      7.201      0.000    9938.829    1.74e+04\n",
       "===================================================================================\n",
       "Ljung-Box (L1) (Q):                   0.02   Jarque-Bera (JB):                 5.65\n",
       "Prob(Q):                              0.90   Prob(JB):                         0.06\n",
       "Heteroskedasticity (H):              13.22   Skew:                            -0.01\n",
       "Prob(H) (two-sided):                  0.00   Kurtosis:                         4.52\n",
       "===================================================================================\n",
       "\n",
       "Warnings:\n",
       "[1] Covariance matrix calculated using the outer product of gradients (complex-step).\n",
       "\"\"\""
      ]
     },
     "execution_count": 12,
     "metadata": {},
     "output_type": "execute_result"
    }
   ],
   "source": [
    "stepwise_fit = auto_arima(df['Price'], trace=True, suppress_warnings=True)\n",
    "\n",
    "stepwise_fit.summary()"
   ]
  },
  {
   "cell_type": "code",
   "execution_count": 13,
   "metadata": {
    "executionInfo": {
     "elapsed": 611,
     "status": "ok",
     "timestamp": 1621835552286,
     "user": {
      "displayName": "2K18/CEME/37 RISHABH KUMAR",
      "photoUrl": "https://lh3.googleusercontent.com/a-/AOh14GgzlEHWXlR-NKsx5juI8HltlJJ4xBY05YIx6l-S=s64",
      "userId": "10963196914525607979"
     },
     "user_tz": -330
    },
    "id": "PdGHRlfB7fMp"
   },
   "outputs": [],
   "source": [
    "from statsmodels.tsa.arima_model import ARIMA"
   ]
  },
  {
   "cell_type": "markdown",
   "metadata": {
    "id": "CMYNY1OJ9duw"
   },
   "source": [
    "Split Data into Training and Testing"
   ]
  },
  {
   "cell_type": "code",
   "execution_count": 14,
   "metadata": {
    "colab": {
     "base_uri": "https://localhost:8080/"
    },
    "executionInfo": {
     "elapsed": 476,
     "status": "ok",
     "timestamp": 1621836194574,
     "user": {
      "displayName": "2K18/CEME/37 RISHABH KUMAR",
      "photoUrl": "https://lh3.googleusercontent.com/a-/AOh14GgzlEHWXlR-NKsx5juI8HltlJJ4xBY05YIx6l-S=s64",
      "userId": "10963196914525607979"
     },
     "user_tz": -330
    },
    "id": "6C_tuohL9gIg",
    "outputId": "394936d1-93e5-4c0a-a83f-ae6d1b64e4d2"
   },
   "outputs": [
    {
     "name": "stdout",
     "output_type": "stream",
     "text": [
      "(60, 1)\n",
      "(56, 1) (4, 1)\n"
     ]
    }
   ],
   "source": [
    "print(df.shape)\n",
    "train=df.iloc[:-4]\n",
    "test=df.iloc[-4:]\n",
    "print(train.shape,test.shape)"
   ]
  },
  {
   "cell_type": "markdown",
   "metadata": {
    "id": "q5zzbC2O7_d1"
   },
   "source": [
    "Train the Model"
   ]
  },
  {
   "cell_type": "code",
   "execution_count": 15,
   "metadata": {
    "colab": {
     "base_uri": "https://localhost:8080/",
     "height": 318
    },
    "executionInfo": {
     "elapsed": 1393,
     "status": "ok",
     "timestamp": 1621836874402,
     "user": {
      "displayName": "2K18/CEME/37 RISHABH KUMAR",
      "photoUrl": "https://lh3.googleusercontent.com/a-/AOh14GgzlEHWXlR-NKsx5juI8HltlJJ4xBY05YIx6l-S=s64",
      "userId": "10963196914525607979"
     },
     "user_tz": -330
    },
    "id": "DI3TVjEV8pmX",
    "outputId": "bdbd79e0-2a22-4377-d618-d5b6a6e2b7d4"
   },
   "outputs": [
    {
     "data": {
      "text/html": [
       "<table class=\"simpletable\">\n",
       "<caption>ARIMA Model Results</caption>\n",
       "<tr>\n",
       "  <th>Dep. Variable:</th>      <td>D.Price</td>     <th>  No. Observations:  </th>    <td>55</td>   \n",
       "</tr>\n",
       "<tr>\n",
       "  <th>Model:</th>          <td>ARIMA(0, 1, 0)</td>  <th>  Log Likelihood     </th> <td>-340.099</td>\n",
       "</tr>\n",
       "<tr>\n",
       "  <th>Method:</th>               <td>css</td>       <th>  S.D. of innovations</th>  <td>117.294</td>\n",
       "</tr>\n",
       "<tr>\n",
       "  <th>Date:</th>          <td>Sat, 29 May 2021</td> <th>  AIC                </th>  <td>684.199</td>\n",
       "</tr>\n",
       "<tr>\n",
       "  <th>Time:</th>              <td>16:15:14</td>     <th>  BIC                </th>  <td>688.213</td>\n",
       "</tr>\n",
       "<tr>\n",
       "  <th>Sample:</th>                <td>1</td>        <th>  HQIC               </th>  <td>685.751</td>\n",
       "</tr>\n",
       "<tr>\n",
       "  <th></th>                       <td> </td>        <th>                     </th>     <td> </td>   \n",
       "</tr>\n",
       "</table>\n",
       "<table class=\"simpletable\">\n",
       "<tr>\n",
       "    <td></td>       <th>coef</th>     <th>std err</th>      <th>z</th>      <th>P>|z|</th>  <th>[0.025</th>    <th>0.975]</th>  \n",
       "</tr>\n",
       "<tr>\n",
       "  <th>const</th> <td>   25.2032</td> <td>   15.816</td> <td>    1.594</td> <td> 0.111</td> <td>   -5.796</td> <td>   56.202</td>\n",
       "</tr>\n",
       "</table>"
      ],
      "text/plain": [
       "<class 'statsmodels.iolib.summary.Summary'>\n",
       "\"\"\"\n",
       "                             ARIMA Model Results                              \n",
       "==============================================================================\n",
       "Dep. Variable:                D.Price   No. Observations:                   55\n",
       "Model:                 ARIMA(0, 1, 0)   Log Likelihood                -340.099\n",
       "Method:                           css   S.D. of innovations            117.294\n",
       "Date:                Sat, 29 May 2021   AIC                            684.199\n",
       "Time:                        16:15:14   BIC                            688.213\n",
       "Sample:                             1   HQIC                           685.751\n",
       "                                                                              \n",
       "==============================================================================\n",
       "                 coef    std err          z      P>|z|      [0.025      0.975]\n",
       "------------------------------------------------------------------------------\n",
       "const         25.2032     15.816      1.594      0.111      -5.796      56.202\n",
       "==============================================================================\n",
       "\"\"\""
      ]
     },
     "execution_count": 15,
     "metadata": {},
     "output_type": "execute_result"
    }
   ],
   "source": [
    "from statsmodels.tsa.arima_model import ARIMA\n",
    "model=ARIMA(train['Price'],order=(0,1,0))\n",
    "model=model.fit()\n",
    "model.summary()"
   ]
  },
  {
   "cell_type": "markdown",
   "metadata": {
    "id": "BElMILhJ-T_9"
   },
   "source": [
    "Make Prediction on Test Set"
   ]
  },
  {
   "cell_type": "code",
   "execution_count": 16,
   "metadata": {
    "colab": {
     "base_uri": "https://localhost:8080/"
    },
    "executionInfo": {
     "elapsed": 494,
     "status": "ok",
     "timestamp": 1621838122508,
     "user": {
      "displayName": "2K18/CEME/37 RISHABH KUMAR",
      "photoUrl": "https://lh3.googleusercontent.com/a-/AOh14GgzlEHWXlR-NKsx5juI8HltlJJ4xBY05YIx6l-S=s64",
      "userId": "10963196914525607979"
     },
     "user_tz": -330
    },
    "id": "L7mZdyRL-XVl",
    "outputId": "e614db5d-1998-4e97-f76b-5f6f85cd33ee"
   },
   "outputs": [
    {
     "name": "stdout",
     "output_type": "stream",
     "text": [
      "Date\n",
      "2020-12-01    1902.503232\n",
      "2021-01-01    1927.706414\n",
      "2021-02-01    1952.909597\n",
      "2021-03-01    1978.112780\n",
      "Name: ARIMA Predictions, dtype: float64\n"
     ]
    }
   ],
   "source": [
    "start=len(train)\n",
    "end=len(train)+len(test)-1\n",
    "pred=model.predict(start=start,end=end,typ='levels').rename('ARIMA Predictions')\n",
    "#print(pred)\n",
    "pred.index=df.index[start:end+1]\n",
    "print(pred)"
   ]
  },
  {
   "cell_type": "code",
   "execution_count": 17,
   "metadata": {
    "colab": {
     "base_uri": "https://localhost:8080/",
     "height": 297
    },
    "executionInfo": {
     "elapsed": 5,
     "status": "ok",
     "timestamp": 1621838229617,
     "user": {
      "displayName": "2K18/CEME/37 RISHABH KUMAR",
      "photoUrl": "https://lh3.googleusercontent.com/a-/AOh14GgzlEHWXlR-NKsx5juI8HltlJJ4xBY05YIx6l-S=s64",
      "userId": "10963196914525607979"
     },
     "user_tz": -330
    },
    "id": "zCnj9JNxFqB8",
    "outputId": "d6cea306-9505-4098-bcef-db952d73c139"
   },
   "outputs": [
    {
     "data": {
      "text/plain": [
       "<AxesSubplot:xlabel='Date'>"
      ]
     },
     "execution_count": 17,
     "metadata": {},
     "output_type": "execute_result"
    },
    {
     "data": {
      "image/png": "[encoded data removed]",
      "text/plain": [
       "<Figure size 432x288 with 1 Axes>"
      ]
     },
     "metadata": {
      "needs_background": "light"
     },
     "output_type": "display_data"
    }
   ],
   "source": [
    "pred.plot(legend=True)\n",
    "test['Price'].plot(legend=True)"
   ]
  },
  {
   "cell_type": "code",
   "execution_count": 18,
   "metadata": {
    "colab": {
     "base_uri": "https://localhost:8080/"
    },
    "executionInfo": {
     "elapsed": 1094,
     "status": "ok",
     "timestamp": 1621838285531,
     "user": {
      "displayName": "2K18/CEME/37 RISHABH KUMAR",
      "photoUrl": "https://lh3.googleusercontent.com/a-/AOh14GgzlEHWXlR-NKsx5juI8HltlJJ4xBY05YIx6l-S=s64",
      "userId": "10963196914525607979"
     },
     "user_tz": -330
    },
    "id": "aZPMTFBEGBK2",
    "outputId": "39ec01b0-2136-428b-9277-c54056d55467"
   },
   "outputs": [
    {
     "data": {
      "text/plain": [
       "1984.625"
      ]
     },
     "execution_count": 18,
     "metadata": {},
     "output_type": "execute_result"
    }
   ],
   "source": [
    "test['Price'].mean()"
   ]
  },
  {
   "cell_type": "code",
   "execution_count": 19,
   "metadata": {
    "colab": {
     "base_uri": "https://localhost:8080/"
    },
    "executionInfo": {
     "elapsed": 532,
     "status": "ok",
     "timestamp": 1621838373599,
     "user": {
      "displayName": "2K18/CEME/37 RISHABH KUMAR",
      "photoUrl": "https://lh3.googleusercontent.com/a-/AOh14GgzlEHWXlR-NKsx5juI8HltlJJ4xBY05YIx6l-S=s64",
      "userId": "10963196914525607979"
     },
     "user_tz": -330
    },
    "id": "jfcoA5qfGFp9",
    "outputId": "ad385030-fee2-4d93-d45a-daeab0103eaf"
   },
   "outputs": [
    {
     "name": "stdout",
     "output_type": "stream",
     "text": [
      "78.74539964678667\n"
     ]
    }
   ],
   "source": [
    "from sklearn.metrics import mean_squared_error\n",
    "from math import sqrt\n",
    "rmse=sqrt(mean_squared_error(pred,test['Price']))\n",
    "print(rmse)"
   ]
  },
  {
   "cell_type": "code",
   "execution_count": 20,
   "metadata": {},
   "outputs": [
    {
     "name": "stdout",
     "output_type": "stream",
     "text": [
      "0.1936576529102209\n"
     ]
    }
   ],
   "source": [
    "from sklearn.metrics import mean_absolute_percentage_error\n",
    "from math import sqrt\n",
    "mape=sqrt(mean_absolute_percentage_error(pred,test['Price']))\n",
    "print(mape)"
   ]
  },
  {
   "cell_type": "code",
   "execution_count": 21,
   "metadata": {
    "colab": {
     "base_uri": "https://localhost:8080/",
     "height": 225
    },
    "executionInfo": {
     "elapsed": 606,
     "status": "ok",
     "timestamp": 1621838613815,
     "user": {
      "displayName": "2K18/CEME/37 RISHABH KUMAR",
      "photoUrl": "https://lh3.googleusercontent.com/a-/AOh14GgzlEHWXlR-NKsx5juI8HltlJJ4xBY05YIx6l-S=s64",
      "userId": "10963196914525607979"
     },
     "user_tz": -330
    },
    "id": "eK-HW_3wGt3f",
    "outputId": "1161d92f-f35a-4e31-e3cf-86748667d927"
   },
   "outputs": [
    {
     "data": {
      "text/html": [
       "<div>\n",
       "<style scoped>\n",
       "    .dataframe tbody tr th:only-of-type {\n",
       "        vertical-align: middle;\n",
       "    }\n",
       "\n",
       "    .dataframe tbody tr th {\n",
       "        vertical-align: top;\n",
       "    }\n",
       "\n",
       "    .dataframe thead th {\n",
       "        text-align: right;\n",
       "    }\n",
       "</style>\n",
       "<table border=\"1\" class=\"dataframe\">\n",
       "  <thead>\n",
       "    <tr style=\"text-align: right;\">\n",
       "      <th></th>\n",
       "      <th>Price</th>\n",
       "    </tr>\n",
       "    <tr>\n",
       "      <th>Date</th>\n",
       "      <th></th>\n",
       "    </tr>\n",
       "  </thead>\n",
       "  <tbody>\n",
       "    <tr>\n",
       "      <th>2020-11-02</th>\n",
       "      <td>1877.300049</td>\n",
       "    </tr>\n",
       "    <tr>\n",
       "      <th>2020-12-01</th>\n",
       "      <td>1954.300049</td>\n",
       "    </tr>\n",
       "    <tr>\n",
       "      <th>2021-01-01</th>\n",
       "      <td>1987.150024</td>\n",
       "    </tr>\n",
       "    <tr>\n",
       "      <th>2021-02-01</th>\n",
       "      <td>1895.349976</td>\n",
       "    </tr>\n",
       "    <tr>\n",
       "      <th>2021-03-01</th>\n",
       "      <td>2101.699951</td>\n",
       "    </tr>\n",
       "  </tbody>\n",
       "</table>\n",
       "</div>"
      ],
      "text/plain": [
       "                  Price\n",
       "Date                   \n",
       "2020-11-02  1877.300049\n",
       "2020-12-01  1954.300049\n",
       "2021-01-01  1987.150024\n",
       "2021-02-01  1895.349976\n",
       "2021-03-01  2101.699951"
      ]
     },
     "execution_count": 21,
     "metadata": {},
     "output_type": "execute_result"
    }
   ],
   "source": [
    "model2=ARIMA(df['Price'],order=(0,1,0))\n",
    "model2=model2.fit()\n",
    "df.tail()"
   ]
  },
  {
   "cell_type": "markdown",
   "metadata": {
    "id": "VAf0ZFypHh_I"
   },
   "source": [
    "For Future Dates"
   ]
  },
  {
   "cell_type": "code",
   "execution_count": 22,
   "metadata": {
    "colab": {
     "base_uri": "https://localhost:8080/"
    },
    "executionInfo": {
     "elapsed": 464,
     "status": "ok",
     "timestamp": 1621839448323,
     "user": {
      "displayName": "2K18/CEME/37 RISHABH KUMAR",
      "photoUrl": "https://lh3.googleusercontent.com/a-/AOh14GgzlEHWXlR-NKsx5juI8HltlJJ4xBY05YIx6l-S=s64",
      "userId": "10963196914525607979"
     },
     "user_tz": -330
    },
    "id": "uo1vniPzHkMG",
    "outputId": "1bd23aac-86ef-4507-841f-9cf45c83ceda"
   },
   "outputs": [
    {
     "name": "stdout",
     "output_type": "stream",
     "text": [
      "59    2128.997832\n",
      "60    2156.295712\n",
      "61    2183.593593\n",
      "Name: ARIMA Predictions, dtype: float64\n"
     ]
    }
   ],
   "source": [
    "#index_future_dates=pd.date_range(start='2021-22',end='2023-24')\n",
    "#print(index_future_dates)\n",
    "pred=model2.predict(start=len(df),end=len(df)+2,typ='levels').rename('ARIMA Predictions')\n",
    "#print(comp_pred)\n",
    "#print.index=index_future_dates\n",
    "print(pred)"
   ]
  }
 ],
 "metadata": {
  "colab": {
   "authorship_tag": "ABX9TyO5p/fo4jfr5ApEHaWVBM6g",
   "mount_file_id": "11kT7m_Kp-lg6uas3qRuNyoIZkoQ55cbW",
   "name": "PM_Project.ipynb",
   "provenance": []
  },
  "kernelspec": {
   "display_name": "Python 3 (ipykernel)",
   "language": "python",
   "name": "python3"
  },
  "language_info": {
   "codemirror_mode": {
    "name": "ipython",
    "version": 3
   },
   "file_extension": ".py",
   "mimetype": "text/x-python",
   "name": "python",
   "nbconvert_exporter": "python",
   "pygments_lexer": "ipython3",
   "version": "3.9.7"
  }
 },
 "nbformat": 4,
 "nbformat_minor": 1
}
